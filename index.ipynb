{
 "cells": [
  {
   "cell_type": "code",
   "execution_count": null,
   "metadata": {},
   "outputs": [],
   "source": [
    "#|hide\n",
    "from testing_grounds.core import *"
   ]
  },
  {
   "cell_type": "markdown",
   "metadata": {},
   "source": [
    "# A testing ground of sorts to play with nbprocess\n",
    "\n",
    "> My tests as I try out the nbprocess framework"
   ]
  },
  {
   "cell_type": "markdown",
   "metadata": {},
   "source": [
    "## How to use"
   ]
  },
  {
   "cell_type": "markdown",
   "metadata": {},
   "source": [
    "This library (and repository) contains a variety of tutorials/experiments using [nbprocess](https://github.com/fastai/nbprocess). Ideally these experiments will be me testing how close [nbagile](https://github.com/muellerzr/nbagile) can be to existence with this new framework.\n",
    "\n",
    "Implemented in this repo:\n",
    "\n",
    "- Automatically exporting notebook tests into a pytest `unittest.TestCase` format inside a `tests/` directory. (see 00_core and 01_export)\n",
    "- Creating cookie-cutter notebooks via `new_nb`"
   ]
  }
 ],
 "metadata": {
  "kernelspec": {
   "display_name": "Python 3 (ipykernel)",
   "language": "python",
   "name": "python3"
  }
 },
 "nbformat": 4,
 "nbformat_minor": 4
}
