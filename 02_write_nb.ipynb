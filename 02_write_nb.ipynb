{
 "cells": [
  {
   "cell_type": "code",
   "execution_count": 1,
   "id": "040c5d74-d4f2-434e-83a0-9a337707a8f0",
   "metadata": {},
   "outputs": [],
   "source": [
    "#|default_exp write_nb"
   ]
  },
  {
   "cell_type": "markdown",
   "id": "affeb09c-bd5a-4e36-8ff5-b1e184e89adb",
   "metadata": {},
   "source": [
    "# Write Notebooks\n",
    "> A module to create new notebooks quickly"
   ]
  },
  {
   "cell_type": "code",
   "execution_count": 212,
   "id": "a2543bba-52dc-40f0-94f8-2e1f53e43f88",
   "metadata": {},
   "outputs": [],
   "source": [
    "#|export\n",
    "from string import Template\n",
    "import json\n",
    "from fastcore.script import call_parse\n",
    "from fastcore.foundation import L, AttrDict\n",
    "\n",
    "\n",
    "_default_exp = Template('#|default_exp $export')\n",
    "_title = Template('# $title\\n')\n",
    "_description = Template(\"> $description\")\n",
    "_export = \"#|hide\\n#|eval:false\\nfrom nbprocess.doclinks import nbprocess_export\\nnbprocess_export()\"\n",
    "\n",
    "def _mk_nb(title,desc,exp=None):\n",
    "    def _mk_cell(kind,src): return dict(cell_type=kind,metadata={},outputs=[],source=src)\n",
    "    nb=AttrDict(cells=L(),metadata={},nbformat=4,nbformat_minor=5)\n",
    "    if exp is not None: nb.cells.append(_mk_cell(\"code\",[exp]))\n",
    "    nb.cells.append(_mk_cell(\"markdown\",[title,desc]))\n",
    "    nb.cells.append(_mk_cell(\"code\",[]))\n",
    "    if exp is not None:\n",
    "        nb.cells.append(_mk_cell(\"markdown\",[\"## Export -\"]))\n",
    "        nb.cells.append(_mk_cell(\"code\", _export))\n",
    "    nb.cells = list(nb.cells)\n",
    "    return dict(nb)"
   ]
  },
  {
   "cell_type": "code",
   "execution_count": 213,
   "id": "f3c58aed-9955-4451-90e7-1f4296943e57",
   "metadata": {},
   "outputs": [],
   "source": [
    "#|export\n",
    "@call_parse\n",
    "def new_nb(\n",
    "    name:str, # The name of the newly created notebook\n",
    "    mod:str=None, # The name of the exported module from it\n",
    "    title:str=None, # The title header in the notebook\n",
    "    description:str=None, # The description that will go under the title header\n",
    "    nprefix:int=0, # If > 0, will be the first number in the filename\n",
    "    nsuffix:int=0, # If > 0, will be the second number in the filename\n",
    "):\n",
    "    \"Creates a new base nbprocess notebook {nprefix}{nsuffix}_{name}.ipynb\"\n",
    "    cfg = get_config()\n",
    "    nbs = nbglob(cfg.nbs_path, file_glob=\"*.ipynb\", file_re=\"^[0-9]\", skip_folder_re=\"^[_.]\")\n",
    "    nbs = nbs.map(lambda x: x.split(\"./\")[-1].replace(\".ipynb\",\"\"))\n",
    "    nbs.sort()\n",
    "    title = _title.substitute(title=title or \"No Title\")\n",
    "    descrip = _description.substitute(description=description or \"Fill me in!\")\n",
    "    if mod is not None: mod = _default_exp.substitute(export=mod)\n",
    "    nums = nbs.map(\n",
    "        lambda x: list(re.search(\"^[0-9][0-9]?\", x).group(0))\n",
    "    ).map(lambda x: list(map(int, x)))\n",
    "    if nprefix==0 and len(nums)>0: nprefix = max(o[0] for o in nums)\n",
    "    if nsuffix==0 and len(nums)>0: nsuffix = max(o[1] for o in nums)+1\n",
    "    nbpath = Path(f'{cfg.nbs_path}/{nprefix}{nsuffix}_{name}.ipynb')\n",
    "    with nbpath.open(\"w\") as f: json.dump(_mk_nb(title,descrip,mod), f, indent=1)"
   ]
  },
  {
   "cell_type": "markdown",
   "id": "be58bca2-ff06-419e-a640-5932cb4df52d",
   "metadata": {},
   "source": [
    "By either running through the CLI or as a function, you can quickly create a new cookie-cutter notebook to utilize. If `mod` is not provided, we assume it's a tutorial notebook and the export boilerplate will not be added as a cell.\n",
    "\n",
    "Examples can be seen below:"
   ]
  },
  {
   "cell_type": "code",
   "execution_count": 216,
   "id": "b3ead8bb-6628-4a7b-a6a1-0c1cdb4ce271",
   "metadata": {},
   "outputs": [],
   "source": [
    "#|eval: false\n",
    "new_nb(\"test_notebook\")"
   ]
  },
  {
   "cell_type": "markdown",
   "id": "e630c05b-9a07-41bf-a4df-48f986d17e8f",
   "metadata": {},
   "source": [
    "![](imgs/wo_export.png)"
   ]
  },
  {
   "cell_type": "code",
   "execution_count": 217,
   "id": "8533a671-d299-4233-b6cd-5229730f4c12",
   "metadata": {},
   "outputs": [],
   "source": [
    "#|eval: false\n",
    "new_nb(\"second_notebook\", \"mymodule\", \"Some Title\", \"A cool description\")"
   ]
  },
  {
   "cell_type": "markdown",
   "id": "8e097c99-86d2-4691-8619-f6a6c0425407",
   "metadata": {},
   "source": [
    "![](imgs/with_export.png)"
   ]
  },
  {
   "cell_type": "code",
   "execution_count": null,
   "id": "43461833-16e3-4bdc-b75e-9abb87f5e5de",
   "metadata": {},
   "outputs": [],
   "source": []
  }
 ],
 "metadata": {
  "kernelspec": {
   "display_name": "Python 3 (ipykernel)",
   "language": "python",
   "name": "python3"
  },
  "language_info": {
   "codemirror_mode": {
    "name": "ipython",
    "version": 3
   },
   "file_extension": ".py",
   "mimetype": "text/x-python",
   "name": "python",
   "nbconvert_exporter": "python",
   "pygments_lexer": "ipython3",
   "version": "3.9.7"
  }
 },
 "nbformat": 4,
 "nbformat_minor": 5
}
