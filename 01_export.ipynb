{
 "cells": [
  {
   "cell_type": "code",
   "execution_count": null,
   "id": "5ca2e2c6-11dd-4684-bdaa-c4fe916678e8",
   "metadata": {},
   "outputs": [],
   "source": [
    "#|default_exp export"
   ]
  },
  {
   "cell_type": "code",
   "execution_count": null,
   "id": "8dbc58c8-de19-411f-99b8-6fb6828d6032",
   "metadata": {},
   "outputs": [],
   "source": [
    "#|export\n",
    "from __future__ import annotations"
   ]
  },
  {
   "cell_type": "markdown",
   "id": "dafbbbd6-fcb4-49dd-bb35-1cc6d46be529",
   "metadata": {},
   "source": [
    "# PyTest Capabilities with nbprocess\n",
    "\n",
    "> A notebook allowing for the export of tests in an nbprocess project and thrown into a pytest-compatible file "
   ]
  },
  {
   "cell_type": "code",
   "execution_count": null,
   "id": "468513ec-57a0-49e1-920f-c87c0e6e0c16",
   "metadata": {},
   "outputs": [],
   "source": [
    "#|export\n",
    "from nbprocess.process import *\n",
    "from nbprocess.read import *\n",
    "from nbprocess.imports import *\n",
    "from nbprocess.maker import *\n",
    "\n",
    "from nbprocess.processors import _default_exp"
   ]
  },
  {
   "cell_type": "code",
   "execution_count": null,
   "id": "618cf447-6a59-4a25-aec6-9710bff8ad76",
   "metadata": {},
   "outputs": [],
   "source": [
    "_test_file = \"00_core.ipynb\""
   ]
  },
  {
   "cell_type": "markdown",
   "id": "943567bd-e2c3-485c-a914-eed37fc948f7",
   "metadata": {},
   "source": [
    "The goal of this notebook is to demonstrate how easy it can be to add automatic export of tests written inside of a Jupyter Notebook through `nbprocess`.\n",
    "\n",
    "What does this look like? I'd recommend reading through [00_core](https://github.com/muellerzr/nbprocess-sandbox/blob/main/00_core.ipynb) first to get an idea, but essentially we write one big `unittest.TestCase` for each file (which is commonly done), and then we declare each of our tests through a `#|test {testname}` tag. There is also a special `#|test imports` tag for imports that should be present when performing the testing. \n",
    "\n",
    "Importing the exported module via `from library.{module} import *` is done automatically."
   ]
  },
  {
   "cell_type": "code",
   "execution_count": null,
   "id": "066edfde-4818-401d-8bd7-eb5b45fca404",
   "metadata": {},
   "outputs": [],
   "source": [
    "#|export\n",
    "from collections import defaultdict\n",
    "from fastcore.foundation import L, ifnone\n",
    "from execnb.nbio import *\n",
    "\n",
    "class ExportTestProc:\n",
    "    \"A test proc that watches for `#|default_exp` and `#|test`\"\n",
    "    def __init__(self): self.tests = defaultdict(L)\n",
    "    def _default_exp_(self, nbp, cell, exp_to): self.default_exp = f'test_{exp_to}'\n",
    "    def _test_(self, nbp, cell, exp_to=None, nm=None, tst_cls=None): self.tests[self.default_exp].append(nbp.cell)"
   ]
  },
  {
   "cell_type": "code",
   "execution_count": null,
   "id": "8d78ffcb-8d9b-47c8-ba0a-39436922fe59",
   "metadata": {},
   "outputs": [],
   "source": [
    "#|export\n",
    "_re_test = re.compile(r'#\\|\\s*test\\s*$', re.MULTILINE)\n",
    "_re_import = re.compile(r'#\\|\\s*test\\s*import\\s*$', re.MULTILINE)\n",
    "_tab = \"    \""
   ]
  },
  {
   "cell_type": "code",
   "execution_count": null,
   "id": "d5cfabba-9167-44a6-9073-8f438480155e",
   "metadata": {},
   "outputs": [],
   "source": [
    "#|export\n",
    "def get_directive(cell, key, default=None): \n",
    "    \"Extract a top level directive from `cell`\"\n",
    "    return cell.directives_.get(key, default)\n",
    "\n",
    "def _is_test_cell(cell): return cell.cell_type == \"code\" and get_directive(cell, \"test\")"
   ]
  },
  {
   "cell_type": "markdown",
   "id": "907e9a9e-c1bb-4131-90e7-4e5cc08475da",
   "metadata": {},
   "source": [
    "## Using PyTest"
   ]
  },
  {
   "cell_type": "code",
   "execution_count": null,
   "id": "d0bfce39-6812-4caf-94e8-6de82d37d550",
   "metadata": {},
   "outputs": [],
   "source": [
    "#|export\n",
    "def _mark_test(s):\n",
    "    ft = exec_new(\"import fastcore.test as ft\")[\"ft\"].__all__\n",
    "    kinds = [o for o in ft if o.startswith(\"test\")]\n",
    "    for k in kinds:\n",
    "        if f\"{k}(\" in s: \n",
    "            s = s.replace(f\"{k}(\", f\"ft.{k}(\")\n",
    "    return s"
   ]
  },
  {
   "cell_type": "code",
   "execution_count": null,
   "id": "f971cd50-ccc0-4ea9-b0c2-63ec19516e48",
   "metadata": {},
   "outputs": [],
   "source": [
    "#|export\n",
    "def convert_pytest(cell):\n",
    "    \"Wraps cell contents into a pytest function\"\n",
    "    directive = get_directive(cell, \"test\")\n",
    "    if _is_test_cell(cell):\n",
    "        if \"import\" not in directive:\n",
    "            content = '\\n'.join([f\"{_tab}{c}\" for c in cell.source.split(\"\\n\")])\n",
    "            content = _mark_test(content)\n",
    "            cell.source = f'def test_{directive[0]}():\\n{content}'\n",
    "        else:\n",
    "            cell.source = cell.source.replace(\"from fastcore.test import *\", \"import fastcore.test as ft\")"
   ]
  },
  {
   "cell_type": "markdown",
   "id": "1e051fe7-e82b-4f70-9f8a-2bc2e3fbd759",
   "metadata": {},
   "source": [
    "To use this processor, make sure your cell has the following directive format:\n",
    "```python\n",
    "#| test {test_name}\n",
    "```\n",
    "\n",
    "Below we can test it out:"
   ]
  },
  {
   "cell_type": "code",
   "execution_count": null,
   "id": "129207aa-1f60-4901-937a-8b7e9088c2dc",
   "metadata": {},
   "outputs": [],
   "source": [
    "#|export\n",
    "def construct_imports(nb, use_unittest=False):\n",
    "    \"Generates the test imports for the notebook\"\n",
    "    libname = get_config().lib_name\n",
    "    exp = _default_exp(nb)\n",
    "    imports = ['#| test import\\n', f'from {libname}.{exp} import *\\n']\n",
    "    if use_unittest: imports += ['import unittest']\n",
    "    nb.cells.insert(1, mk_cell(imports))"
   ]
  },
  {
   "cell_type": "markdown",
   "id": "6c4fbee8-f839-48e7-a0af-874a3cafde63",
   "metadata": {},
   "source": [
    "This function will make sure to import the module being exported into your notebook, and potentially include a `unittest` import."
   ]
  },
  {
   "cell_type": "code",
   "execution_count": null,
   "id": "ddfe5588-faa7-4666-b28c-6d50376ae658",
   "metadata": {},
   "outputs": [],
   "source": [
    "#|export\n",
    "def create_test_modules(path,dest,debug=False,mod_maker=ModuleMaker, unittest=False):\n",
    "    \"Creates test files from `path`, optionally with unittest support\"\n",
    "    exp = ExportTestProc()\n",
    "    procs = [exp, convert_pytest]\n",
    "    if unittest: procs.append(convert_unittest)\n",
    "    nb = NBProcessor(path, procs, preprocs=partial(construct_imports, use_unittest=unittest))\n",
    "    nb.process()\n",
    "    is_new = True\n",
    "    for mod,cells in exp.tests.items():\n",
    "        mm = mod_maker(dest=dest, name=exp.default_exp, nb_path=path, is_new=is_new)\n",
    "        mm.make(cells)\n",
    "        is_new = False"
   ]
  },
  {
   "cell_type": "code",
   "execution_count": null,
   "id": "abcbc45d-66ab-4edf-8eff-0a00d3e593d3",
   "metadata": {},
   "outputs": [
    {
     "name": "stdout",
     "output_type": "stream",
     "text": [
      "\u001b[1m============================= test session starts ==============================\u001b[0m\n",
      "platform linux -- Python 3.9.7, pytest-7.1.2, pluggy-1.0.0\n",
      "rootdir: /home/jovyan/local/zach/nbprocess-sandbox\n",
      "plugins: anyio-3.5.0\n",
      "collected 1 item                                                               \u001b[0m\n",
      "\n",
      "tmp/test_core.py \u001b[32m.\u001b[0m\u001b[32m                                                       [100%]\u001b[0m\n",
      "\n",
      "\u001b[32m============================== \u001b[32m\u001b[1m1 passed\u001b[0m\u001b[32m in 0.01s\u001b[0m\u001b[32m ===============================\u001b[0m\n"
     ]
    }
   ],
   "source": [
    "#|eval: false\n",
    "create_test_modules(_test_file, \"tmp\")"
   ]
  },
  {
   "cell_type": "markdown",
   "id": "d3cf5036-62ee-4115-b338-74fcdf334b86",
   "metadata": {},
   "source": [
    "## Using unittest"
   ]
  },
  {
   "cell_type": "code",
   "execution_count": null,
   "id": "09630ccc-e71c-4247-967f-f74758f9222c",
   "metadata": {},
   "outputs": [],
   "source": [
    "#|export\n",
    "def convert_unittest(cell):\n",
    "    \"Wraps cell contents into a unittest test suite.\"\n",
    "    if _is_test_cell(cell):\n",
    "        directive = get_directive(cell, \"test\")\n",
    "        if \"case\" in directive:\n",
    "            tstcls, = directive[2:3] or \"unittest.TestCase\"\n",
    "            cell.source = f'class {directive[1]}({tstcls}):'\n",
    "        elif \"import\" not in directive:\n",
    "            cell.source = '\\n'.join([f'{_tab}{c}' for c in cell.source.split(\"\\n\")])"
   ]
  },
  {
   "cell_type": "markdown",
   "id": "7f21fc65-22ef-4cf0-95e7-b091c2fb9c3e",
   "metadata": {},
   "source": [
    "To use this processor, make sure a cell earlier in the notebook has the following directive format:\n",
    "```python\n",
    "#|test case {CaseName} {TestCaseClassConstructor}\n",
    "```\n",
    "\n",
    "For example:\n",
    "```python\n",
    "#|test case SomeTest unittest.TestCase\n",
    "```\n",
    "or:\n",
    "```python\n",
    "#| test case MyTest SomeCustomTestCaseClass\n",
    "```"
   ]
  },
  {
   "cell_type": "code",
   "execution_count": null,
   "id": "d0c9eba8-6575-48ff-9bc9-cd5fdd238c64",
   "metadata": {},
   "outputs": [],
   "source": [
    "#|eval: false\n",
    "create_test_modules(_test_file, \"unittest\",unittest=True)\n",
    "\n",
    "g = exec_new(\"from tmp.test_core import CoreTester\")\n",
    "assert hasattr(g[\"CoreTester\"], \"test_addition\")"
   ]
  },
  {
   "cell_type": "markdown",
   "id": "d306055d-3548-4e94-8cea-6b3dd7d66cbe",
   "metadata": {},
   "source": [
    "Finally we can run the test case and ensure it passes:"
   ]
  },
  {
   "cell_type": "code",
   "execution_count": null,
   "id": "fdd76285-e8a7-4dbb-bdae-427dc6cea983",
   "metadata": {},
   "outputs": [],
   "source": [
    "#|eval: false\n",
    "import unittest\n",
    "def run_case(testcase:unittest.TestCase):\n",
    "    \"Runs a unittest.TestCase\"\n",
    "    suite = unittest.defaultTestLoader.loadTestsFromTestCase(testcase)\n",
    "    unittest.TextTestRunner().run(suite)"
   ]
  },
  {
   "cell_type": "code",
   "execution_count": null,
   "id": "9eee517d-9047-48d4-ab62-220c6b5753f8",
   "metadata": {},
   "outputs": [
    {
     "name": "stderr",
     "output_type": "stream",
     "text": [
      ".\n",
      "----------------------------------------------------------------------\n",
      "Ran 1 test in 0.002s\n",
      "\n",
      "OK\n"
     ]
    }
   ],
   "source": [
    "#|eval: false\n",
    "run_case(g[\"CoreTester\"])"
   ]
  }
 ],
 "metadata": {
  "kernelspec": {
   "display_name": "Python 3 (ipykernel)",
   "language": "python",
   "name": "python3"
  }
 },
 "nbformat": 4,
 "nbformat_minor": 5
}
