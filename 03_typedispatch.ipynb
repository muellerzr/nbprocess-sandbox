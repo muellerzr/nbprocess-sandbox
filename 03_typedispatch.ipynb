{
 "cells": [
  {
   "cell_type": "markdown",
   "id": "7d168b63",
   "metadata": {},
   "source": [
    "# TypeDispatch POC\n",
    "> Displaying typedispatch in show_doc"
   ]
  },
  {
   "cell_type": "code",
   "execution_count": 1,
   "id": "6508e0a0",
   "metadata": {},
   "outputs": [],
   "source": [
    "#|default_exp dispatch"
   ]
  },
  {
   "cell_type": "code",
   "execution_count": 2,
   "id": "5a666a8a-81bb-4f06-92cd-eec703e1e1b3",
   "metadata": {},
   "outputs": [],
   "source": [
    "#|export\n",
    "import inspect\n",
    "from inspect import getdoc\n",
    "from operator import is_not\n",
    "from functools import partial\n",
    "\n",
    "import fastcore\n",
    "from fastcore.basics import *\n",
    "from fastcore.foundation import *\n",
    "from fastcore.dispatch import typedispatch\n",
    "from fastcore.docments import _docments, docments\n",
    "\n",
    "\n",
    "from nbprocess.showdoc import _wrap_sig, _fmt_sig, _signature\n",
    "from nbprocess.showdoc import *\n",
    "from nbprocess.read import get_config "
   ]
  },
  {
   "cell_type": "code",
   "execution_count": 3,
   "id": "124102be-8cf8-42fb-843b-d94b48b2a81a",
   "metadata": {},
   "outputs": [],
   "source": [
    "from fastcore.test import test_eq"
   ]
  },
  {
   "cell_type": "code",
   "execution_count": 4,
   "id": "6a2845c9-854b-4d91-ad01-a4854cfa87c4",
   "metadata": {},
   "outputs": [],
   "source": [
    "@typedispatch\n",
    "def type_sum(\n",
    "    a:int, # The first docment\n",
    "    b:int # The second docment\n",
    ") -> int: \n",
    "    \"Returns sum of `a` and `b`\"\n",
    "    return a+b\n",
    "\n",
    "@typedispatch\n",
    "def type_sum(\n",
    "    a:float,\n",
    "    b:int,\n",
    ") -> float: \n",
    "    return a+b\n",
    "\n",
    "@typedispatch\n",
    "def type_sum(\n",
    "    a:float,\n",
    "    b:float\n",
    ") -> float:\n",
    "    return a+b"
   ]
  },
  {
   "cell_type": "code",
   "execution_count": 5,
   "id": "a210d56a-2a86-4f8f-b6a7-ccd2a5b7789f",
   "metadata": {},
   "outputs": [],
   "source": [
    "#export\n",
    "@patch\n",
    "def concat(self:L):\n",
    "    \"Concatenates `self`\"\n",
    "    return L(concat(self))"
   ]
  },
  {
   "cell_type": "code",
   "execution_count": 6,
   "id": "ac2a0787-29e2-4505-986e-31ab52c8ae56",
   "metadata": {},
   "outputs": [],
   "source": [
    "o = L([[1,2], [3]])\n",
    "test_eq(o.concat(), L([1,2,3]))"
   ]
  },
  {
   "cell_type": "code",
   "execution_count": 7,
   "id": "968626f0-a18a-441e-99e6-29f3f2027929",
   "metadata": {},
   "outputs": [],
   "source": [
    "#export\n",
    "def trace_dispatch(func):\n",
    "    \"Returns a list of all signatures from a type dispatch\"\n",
    "    return L(type_dict.keys()).map(\n",
    "        lambda x: [\n",
    "            inspect.signature(o) \n",
    "            for o in type_dict[x].d.values()\n",
    "        ]\n",
    "    ).concat()"
   ]
  },
  {
   "cell_type": "code",
   "execution_count": 8,
   "id": "93beda7c-8b5c-4d92-bb11-e6f3a0c925e6",
   "metadata": {},
   "outputs": [
    {
     "data": {
      "text/plain": [
       "(#3) [<Signature (a: int, b: int) -> int>,<Signature (a: float, b: int) -> float>,<Signature (a: float, b: float) -> float>]"
      ]
     },
     "execution_count": 8,
     "metadata": {},
     "output_type": "execute_result"
    }
   ],
   "source": [
    "type_dict = nested_attr(type_sum, \"funcs.d\")\n",
    "typs = trace_dispatch(type_dict); typs"
   ]
  },
  {
   "cell_type": "code",
   "execution_count": 9,
   "id": "fb6c1abb-c07c-446f-b46b-cd26d631eb79",
   "metadata": {},
   "outputs": [],
   "source": [
    "#|export\n",
    "@patch\n",
    "def get_annotation(self:inspect.Signature,\n",
    "    key:str,\n",
    "):\n",
    "    \"Returns the annotation of `key` in `self`\"\n",
    "    return self.parameters[key].annotation"
   ]
  },
  {
   "cell_type": "code",
   "execution_count": 10,
   "id": "1e7ff935-2a76-40ed-a24e-c04feb7ec41a",
   "metadata": {},
   "outputs": [],
   "source": [
    "#|export\n",
    "def get_dispatched(sigs:L):\n",
    "    \"Returns an ordered dictionary of key:types for each param in dispatch_signatures\"\n",
    "    var2types = {}\n",
    "    for arg in sigs[0].parameters.keys():\n",
    "        var2types[arg] = L(sigs).map(Self.get_annotation(arg))\n",
    "    return var2types"
   ]
  },
  {
   "cell_type": "code",
   "execution_count": 11,
   "id": "6436e0a2-23c7-4cf0-9561-b601432b0e55",
   "metadata": {},
   "outputs": [],
   "source": [
    "#|export\n",
    "def _dispatch_annotations(func):\n",
    "    \"Returns an ordered dictionary of key:types of all dispatch argument combinations in `func`\"\n",
    "    return get_dispatched(trace_dispatch(func))"
   ]
  },
  {
   "cell_type": "code",
   "execution_count": 12,
   "id": "09325fcd-d7f1-4a8c-b41c-21f8b26afcb1",
   "metadata": {},
   "outputs": [
    {
     "data": {
      "text/plain": [
       "{'a': (#3) [<class 'int'>,<class 'float'>,<class 'float'>],\n",
       " 'b': (#3) [<class 'int'>,<class 'int'>,<class 'float'>]}"
      ]
     },
     "execution_count": 12,
     "metadata": {},
     "output_type": "execute_result"
    }
   ],
   "source": [
    "_dispatch_annotations(type_sum)"
   ]
  },
  {
   "cell_type": "code",
   "execution_count": 13,
   "id": "7c978a7e-655a-40ce-b286-cea8e2c9aad4",
   "metadata": {},
   "outputs": [],
   "source": [
    "#|export\n",
    "from fastcore.docments import *"
   ]
  },
  {
   "cell_type": "code",
   "execution_count": 14,
   "id": "a31d74ae-3066-4e63-9fef-342af7ed471c",
   "metadata": {},
   "outputs": [],
   "source": [
    "type_dict = nested_attr(type_sum, \"funcs.d\")"
   ]
  },
  {
   "cell_type": "code",
   "execution_count": 15,
   "id": "6be00a4c-7c8c-4d3d-8981-6070a8aa9038",
   "metadata": {},
   "outputs": [],
   "source": [
    "#|export\n",
    "def _dispatch_doc(func):\n",
    "    \"Returns the first docstring in a list of typedispatch'd functions\"\n",
    "    type_dict = nested_attr(func, \"funcs.d\")\n",
    "    return first(L(type_dict.keys()).map(\n",
    "            lambda x: [\n",
    "                inspect.getdoc(o) \n",
    "                for o in type_dict[x].d.values()\n",
    "            ]\n",
    "        ).concat().filter(partial(is_not, None)))"
   ]
  },
  {
   "cell_type": "code",
   "execution_count": 16,
   "id": "451d823e-e3e2-4cd1-95fb-e5563b823a59",
   "metadata": {},
   "outputs": [
    {
     "data": {
      "text/plain": [
       "'Returns sum of `a` and `b`'"
      ]
     },
     "execution_count": 16,
     "metadata": {},
     "output_type": "execute_result"
    }
   ],
   "source": [
    "_dispatch_doc(type_sum)"
   ]
  },
  {
   "cell_type": "code",
   "execution_count": 17,
   "id": "34bd3b44-99c6-4e65-a13a-3c1c2d16a8b7",
   "metadata": {},
   "outputs": [],
   "source": [
    "#|export\n",
    "def docstring(sym):\n",
    "    \"Get docstring for `sym` for functions ad classes\"\n",
    "    if isinstance(sym, str): return sym\n",
    "    if nested_attr(sym, \"funcs.d\"): return _dispatch_doc(sym)\n",
    "    res = getdoc(sym)\n",
    "    if not res and isclass(sym): res = getdoc(sym.__init__)\n",
    "    return res or \"\""
   ]
  },
  {
   "cell_type": "code",
   "execution_count": 18,
   "id": "e2d5f37c-fee1-450a-9387-de036b65c83f",
   "metadata": {},
   "outputs": [
    {
     "data": {
      "text/plain": [
       "'Returns sum of `a` and `b`'"
      ]
     },
     "execution_count": 18,
     "metadata": {},
     "output_type": "execute_result"
    }
   ],
   "source": [
    "docstring(type_sum)"
   ]
  },
  {
   "cell_type": "code",
   "execution_count": 19,
   "id": "8be66966-7a87-4d0e-b90b-67e822ac4ff4",
   "metadata": {},
   "outputs": [],
   "source": [
    "#|export\n",
    "def get_docmented_func(funcs):\n",
    "    \"Finds and returns the first func in `funcs` that has docments\"\n",
    "    dmented = None\n",
    "    for func in L(f.d.values() for f in type_sum.funcs.d.values()).concat():\n",
    "        dment = _docments(func, returns=False)\n",
    "        if not all([k[\"docment\"] == None for k in dment.values()]):\n",
    "            return func\n",
    "    return False\n",
    "\n",
    "@patch\n",
    "def __init__(self:DocmentTbl, obj, verbose=True, returns=True, dispatch=False):\n",
    "    self.verbose = verbose\n",
    "    self.returns = False if isdataclass(obj) else returns\n",
    "    self.params = L(_signature(obj).parameters.keys())\n",
    "    try:\n",
    "        if dispatch:\n",
    "            # Find the first set of docments and return them\n",
    "            obj = get_docmented_func(dispatch)\n",
    "            _dm = docments(obj, full=True, returns=returns)\n",
    "            for k in _dm.keys(): _dm[k][\"anno\"] = inspect._empty\n",
    "        else: _dm = docments(obj, full=True, returns=returns)\n",
    "    except: _dm = {}\n",
    "    if 'self' in _dm: del _dm['self']\n",
    "    for d in _dm.values(): d['docment'] = ifnone(d['docment'], inspect._empty)\n",
    "    self.dm = _dm"
   ]
  },
  {
   "cell_type": "code",
   "execution_count": 20,
   "id": "5dabf37a-ccb0-4b6a-b458-cbd910a2b744",
   "metadata": {},
   "outputs": [],
   "source": [
    "#|export\n",
    "@patch\n",
    "def __init__(self:ShowDocRenderer, sym, disp:bool=True):\n",
    "    store_attr()\n",
    "    self.nm = qual_name(sym)\n",
    "    self.is_dispatch = nested_attr(sym, \"funcs.d\", False)\n",
    "    self.isfunc = inspect.isfunction(sym)\n",
    "    if self.is_dispatch:\n",
    "        funcs = nested_attr(sym, \"funcs.d\")\n",
    "        self.sigs = trace_dispatch(funcs)\n",
    "        sym = first(L(f.d.values() for f in funcs.values()).concat())\n",
    "        self.sig = _signature(sym)\n",
    "        self.nm = qual_name(sym)\n",
    "    else: self.sig = _signature(sym)\n",
    "    self.docs = docstring(sym)\n",
    "    self.dm = DocmentTbl(sym, dispatch=self.sigs if self.is_dispatch else False)"
   ]
  },
  {
   "cell_type": "code",
   "execution_count": 21,
   "id": "90bbceac-c432-443c-b0e2-8b17787ca316",
   "metadata": {},
   "outputs": [],
   "source": [
    "#|export\n",
    "@patch\n",
    "def _repr_markdown_(self:BasicMarkdownRenderer):\n",
    "    doc = '---\\n\\n'\n",
    "    if self.isfunc: doc += \"#\"\n",
    "    doc += f'### {self.nm}\\n\\n'\n",
    "    if self.is_dispatch:\n",
    "        for sig in self.sigs: \n",
    "            sig = _wrap_sig(f\"{self.nm} {_fmt_sig(sig)}\")\n",
    "            doc += f'{sig}\\n'\n",
    "    if self.docs: doc += f\"\\n\\n{self.docs.splitlines()[0]}\"\n",
    "    if self.dm.has_docment: doc += f\"\\n\\n{self.dm}\"\n",
    "    return doc"
   ]
  },
  {
   "cell_type": "code",
   "execution_count": 22,
   "id": "4ebc1674-d791-4902-a8d3-ec6ddab3e286",
   "metadata": {
    "tags": []
   },
   "outputs": [],
   "source": [
    "#|export\n",
    "def show_doc(sym, disp=True, renderer=None):\n",
    "    if renderer is None: renderer = get_config().get('renderer', BasicMarkdownRenderer)\n",
    "    elif isinstance(renderer,str):\n",
    "        p,m = renderer.rsplit('.', 1)\n",
    "        renderer = getattr(import_module(p), m)\n",
    "    return renderer(sym or show_doc, disp=disp)"
   ]
  },
  {
   "cell_type": "code",
   "execution_count": 23,
   "id": "1ea4e021-e70c-4185-9bb6-549ba314c0b1",
   "metadata": {},
   "outputs": [
    {
     "data": {
      "text/markdown": [
       "---\n",
       "\n",
       "### type_sum\n",
       "\n",
       ">      type_sum (a:int, b:int)\n",
       ">      type_sum (a:float, b:int)\n",
       ">      type_sum (a:float, b:float)\n",
       "\n",
       "\n",
       "Returns sum of `a` and `b`\n",
       "\n",
       "|    | **Details** |\n",
       "| -- | ----------- |\n",
       "| a | The first docment |\n",
       "| b | The second docment |"
      ],
      "text/plain": [
       "<nbprocess.showdoc.BasicMarkdownRenderer at 0x7f63e04f6670>"
      ]
     },
     "execution_count": 23,
     "metadata": {},
     "output_type": "execute_result"
    }
   ],
   "source": [
    "show_doc(type_sum)"
   ]
  },
  {
   "cell_type": "markdown",
   "id": "d96052d4-0c0f-47ba-905d-48ae62d7ec7f",
   "metadata": {},
   "source": [
    "This sets up a \"proper\" way to document typedispatch functions following **two key rules**:\n",
    "1. Only a single function should ever be docmented, and these docments should describe what each value represents. The types live to show what the type is. So something like \"A string\", or \"an int\" is redundant.\n",
    "2. All `typedispatch` functions should share the same docstring, as their core functionality should not change."
   ]
  },
  {
   "cell_type": "markdown",
   "id": "57e72ebf-b343-4a8e-9045-0bf10d94070a",
   "metadata": {},
   "source": [
    "Note: this notebook cannot be exported because of a bug\n",
    "\n",
    "```bash\n",
    "Traceback (most recent call last):\n",
    "  File \"/opt/conda/bin/nbprocess_export\", line 8, in <module>\n",
    "    sys.exit(nbprocess_export())\n",
    "  File \"/opt/conda/lib/python3.9/site-packages/fastcore/script.py\", line 113, in _f\n",
    "    tfunc(**merge(args, args_from_prog(func, xtra)))\n",
    "  File \"/opt/conda/lib/python3.9/site-packages/nbprocess/doclinks.py\", line 132, in nbprocess_export\n",
    "    build_modidx()\n",
    "  File \"/opt/conda/lib/python3.9/site-packages/nbprocess/doclinks.py\", line 102, in build_modidx\n",
    "    if file.name[0]!='_': DocLinks(file, doc_func, _fn).build_index()\n",
    "  File \"/opt/conda/lib/python3.9/site-packages/nbprocess/doclinks.py\", line 80, in build_index\n",
    "    self.update_syms()\n",
    "  File \"/opt/conda/lib/python3.9/site-packages/nbprocess/doclinks.py\", line 73, in update_syms\n",
    "    exp += L(get_patch_name(o) for o in trees).filter()\n",
    "  File \"/opt/conda/lib/python3.9/site-packages/fastcore/foundation.py\", line 97, in __call__\n",
    "    return super().__call__(x, *args, **kwargs)\n",
    "  File \"/opt/conda/lib/python3.9/site-packages/fastcore/foundation.py\", line 105, in __init__\n",
    "    items = listify(items, *rest, use_list=use_list, match=match)\n",
    "  File \"/opt/conda/lib/python3.9/site-packages/fastcore/basics.py\", line 59, in listify\n",
    "    elif is_iter(o): res = list(o)\n",
    "  File \"/opt/conda/lib/python3.9/site-packages/nbprocess/doclinks.py\", line 73, in <genexpr>\n",
    "    exp += L(get_patch_name(o) for o in trees).filter()\n",
    "  File \"/opt/conda/lib/python3.9/site-packages/nbprocess/doclinks.py\", line 58, in get_patch_name\n",
    "    if nm=='patch': pre = o.args.args[0].annotation.id\n",
    "AttributeError: 'Attribute' object has no attribute 'id'\n",
    "```"
   ]
  },
  {
   "cell_type": "code",
   "execution_count": null,
   "id": "6a54c8a3-1146-473f-81d1-aa4d829c7209",
   "metadata": {},
   "outputs": [],
   "source": []
  }
 ],
 "metadata": {
  "kernelspec": {
   "display_name": "Python 3 (ipykernel)",
   "language": "python",
   "name": "python3"
  },
  "language_info": {
   "codemirror_mode": {
    "name": "ipython",
    "version": 3
   },
   "file_extension": ".py",
   "mimetype": "text/x-python",
   "name": "python",
   "nbconvert_exporter": "python",
   "pygments_lexer": "ipython3",
   "version": "3.9.7"
  }
 },
 "nbformat": 4,
 "nbformat_minor": 5
}
